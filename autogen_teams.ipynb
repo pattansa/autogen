{
 "cells": [
  {
   "cell_type": "code",
   "execution_count": 4,
   "metadata": {},
   "outputs": [],
   "source": [
    "import asyncio\n",
    "from autogen_ext.models.openai import OpenAIChatCompletionClient\n",
    "from dotenv import load_dotenv\n",
    "from autogen_agentchat.teams import RoundRobinGroupChat\n",
    "from autogen_agentchat.messages import TextMessage\n",
    "import os\n",
    "\n",
    "load_dotenv()\n",
    "api_key = os.getenv('OPENAI_API_KEY')\n",
    "model_client = OpenAIChatCompletionClient(model='gpt-4o', api_key=api_key)"
   ]
  },
  {
   "cell_type": "code",
   "execution_count": 3,
   "metadata": {},
   "outputs": [],
   "source": [
    "from autogen_agentchat.agents import AssistantAgent\n",
    "\n",
    "dsa_solver = AssistantAgent(\n",
    "    name = 'Complex_DSA_Solver',\n",
    "    model_client=model_client,\n",
    "    description='A DSA solver',\n",
    "    system_message=\"You give code in python to solve complex DSA problems. Give under 100 words.\"\n",
    ")\n",
    "\n",
    "code_reviewer = AssistantAgent(\n",
    "    name = 'CODE_REVIEWER',\n",
    "    model_client=model_client,\n",
    "    description='A Code Reviewer',\n",
    "    system_message=\"You review the code given by the complex_dsa_solver and make sure it is optimized.Give under 10 words. If you feel that the code is fine, please say 'TERMINATE'\"\n",
    ")\n",
    "\n",
    "code_editor = AssistantAgent(\n",
    "    name = 'CODE_EDITOR',\n",
    "    model_client=model_client,\n",
    "    description='A Code editor',\n",
    "    system_message=\"You make the code easy to understand and add comments wherever required.Give under 10 words\"\n",
    ")"
   ]
  },
  {
   "cell_type": "code",
   "execution_count": 5,
   "metadata": {},
   "outputs": [],
   "source": [
    "team = RoundRobinGroupChat(\n",
    "    participants=[dsa_solver, code_reviewer, code_editor],\n",
    "    max_turns=3   \n",
    ")"
   ]
  },
  {
   "cell_type": "code",
   "execution_count": 7,
   "metadata": {},
   "outputs": [
    {
     "name": "stdout",
     "output_type": "stream",
     "text": [
      "user : write a simple code in python to add 2 numbers\n",
      "Complex_DSA_Solver : ```python\n",
      "def add_two_numbers(a, b):\n",
      "    return a + b\n",
      "\n",
      "# Example usage\n",
      "num1 = 5\n",
      "num2 = 3\n",
      "result = add_two_numbers(num1, num2)\n",
      "print(\"The sum is:\", result)\n",
      "```\n",
      "\n",
      "This code defines a function `add_two_numbers` that takes two arguments and returns their sum. The example demonstrates using the function to add 5 and 3, resulting in 8.\n",
      "CODE_REVIEWER : TERMINATE\n",
      "CODE_EDITOR : Got it, feel free to ask if there's more!\n",
      "messages=[TextMessage(id='fc479478-5a58-423d-aa80-dcdc762c2be3', source='user', models_usage=None, metadata={}, created_at=datetime.datetime(2025, 7, 13, 12, 1, 56, 181867, tzinfo=datetime.timezone.utc), content='write a simple code in python to add 2 numbers', type='TextMessage'), TextMessage(id='d4fcecf9-2719-41e9-8770-be70c14615db', source='Complex_DSA_Solver', models_usage=RequestUsage(prompt_tokens=177, completion_tokens=92), metadata={}, created_at=datetime.datetime(2025, 7, 13, 12, 1, 57, 475103, tzinfo=datetime.timezone.utc), content='```python\\ndef add_two_numbers(a, b):\\n    return a + b\\n\\n# Example usage\\nnum1 = 5\\nnum2 = 3\\nresult = add_two_numbers(num1, num2)\\nprint(\"The sum is:\", result)\\n```\\n\\nThis code defines a function `add_two_numbers` that takes two arguments and returns their sum. The example demonstrates using the function to add 5 and 3, resulting in 8.', type='TextMessage'), TextMessage(id='1dc4d25d-ad31-47fe-b041-7080dbcbd526', source='CODE_REVIEWER', models_usage=RequestUsage(prompt_tokens=302, completion_tokens=3), metadata={}, created_at=datetime.datetime(2025, 7, 13, 12, 1, 58, 525993, tzinfo=datetime.timezone.utc), content='TERMINATE', type='TextMessage'), TextMessage(id='847f6fe7-5b81-4401-bd51-3ead989125dc', source='CODE_EDITOR', models_usage=RequestUsage(prompt_tokens=294, completion_tokens=11), metadata={}, created_at=datetime.datetime(2025, 7, 13, 12, 1, 59, 305005, tzinfo=datetime.timezone.utc), content=\"Got it, feel free to ask if there's more!\", type='TextMessage')] stop_reason='Maximum number of turns 3 reached.'\n"
     ]
    }
   ],
   "source": [
    "async def run_team():\n",
    "    task = TextMessage(content='write a simple code in python to add 2 numbers',source='user')\n",
    "\n",
    "    result = await team.run(task=task)\n",
    "    for each_agent_message in result.messages:\n",
    "            print(f\"{each_agent_message.source} : {each_agent_message.content}\")\n",
    "\n",
    "    print(result)\n",
    "\n",
    "await run_team()"
   ]
  },
  {
   "cell_type": "markdown",
   "metadata": {},
   "source": [
    "messages=[\n",
    "    TextMessage(id='8d065fcc-a739-4172-859d-c6dba4264792', source='user', models_usage=None, metadata={}, created_at=datetime.datetime(2025, 7, 13, 11, 31, 6, 294444, tzinfo=datetime.timezone.utc), content='write a simple code in python to add 2 numbers', type='TextMessage'), \n",
    "    \n",
    "    TextMessage(id='96a1dd23-906a-4ade-9316-a70876907bd8', source='Complex_DSA_Solver', models_usage=RequestUsage(prompt_tokens=41, completion_tokens=87), metadata={}, created_at=datetime.datetime(2025, 7, 13, 11, 31, 9, 587440, tzinfo=datetime.timezone.utc), content='```python\\ndef add_two_numbers(a, b):\\n    return a + b\\n\\n# Example usage\\nnum1 = 5\\nnum2 = 3\\nresult = add_two_numbers(num1, num2)\\nprint(\"The sum is:\", result)\\n```\\nThis code defines a function `add_two_numbers` that takes two parameters and returns their sum. The example demonstrates adding 5 and 3 to get 8.', type='TextMessage'), \n",
    "    \n",
    "    TextMessage(id='0f40b2f0-2d8a-4591-88fd-ee472902c13c', source='CODE_REVIEWER', models_usage=RequestUsage(prompt_tokens=160, completion_tokens=3), metadata={}, created_at=datetime.datetime(2025, 7, 13, 11, 31, 10, 548416, tzinfo=datetime.timezone.utc), content='TERMINATE', type='TextMessage'), \n",
    "    \n",
    "    TextMessage(id='3848d72b-d200-447c-aece-bb0c80c40894', source='CODE_EDITOR', models_usage=RequestUsage(prompt_tokens=150, completion_tokens=10), metadata={}, created_at=datetime.datetime(2025, 7, 13, 11, 31, 11, 320448, tzinfo=datetime.timezone.utc), content='Got it, feel free to ask anything else!', type='TextMessage')] stop_reason='Maximum number of turns 3 reached.'\n"
   ]
  }
 ],
 "metadata": {
  "kernelspec": {
   "display_name": "autogen-env",
   "language": "python",
   "name": "python3"
  },
  "language_info": {
   "codemirror_mode": {
    "name": "ipython",
    "version": 3
   },
   "file_extension": ".py",
   "mimetype": "text/x-python",
   "name": "python",
   "nbconvert_exporter": "python",
   "pygments_lexer": "ipython3",
   "version": "3.13.3"
  }
 },
 "nbformat": 4,
 "nbformat_minor": 2
}
