{
 "cells": [
  {
   "cell_type": "code",
   "execution_count": 1,
   "metadata": {},
   "outputs": [],
   "source": [
    "from autogen_agentchat.agents import AssistantAgent\n",
    "from autogen_ext.models.openai import OpenAIChatCompletionClient\n",
    "from dotenv import load_dotenv\n",
    "import os\n",
    "\n",
    "load_dotenv()\n",
    "\n",
    "api_key = os.getenv('OPENAI_API_KEY')"
   ]
  },
  {
   "cell_type": "code",
   "execution_count": 4,
   "metadata": {},
   "outputs": [
    {
     "name": "stdout",
     "output_type": "stream",
     "text": [
      "messages=[TextMessage(id='2a633cb5-b0f7-4044-8255-553e952f2f77', source='user', models_usage=None, metadata={}, created_at=datetime.datetime(2025, 7, 6, 6, 47, 43, 896125, tzinfo=datetime.timezone.utc), content='Tell me something about you?', type='TextMessage'), TextMessage(id='6a28915c-5dd3-4d70-af1a-deb38ae983a6', source='my_assistant', models_usage=RequestUsage(prompt_tokens=42, completion_tokens=63), metadata={}, created_at=datetime.datetime(2025, 7, 6, 6, 47, 46, 244285, tzinfo=datetime.timezone.utc), content='I am an AI language model trained by OpenAI, here to assist you with a wide variety of questions and tasks. I can provide information, answer queries, help you learn new things, and perform certain tasks to the best of my abilities. Is there anything specific you would like to know or do? TERMINATE', type='TextMessage')] stop_reason=None\n"
     ]
    }
   ],
   "source": [
    "model_client = OpenAIChatCompletionClient(model='gpt-4o',api_key=api_key)\n",
    "agent_1 = AssistantAgent(name='my_assistant',model_client=model_client)\n",
    "result = await agent_1.run(task='Tell me something about you?')\n",
    "result"
   ]
  },
  {
   "cell_type": "markdown",
   "metadata": {},
   "source": [
    "messages=[TextMessage(id='2a633cb5-b0f7-4044-8255-553e952f2f77', source='user', models_usage=None, metadata={}, created_at=datetime.datetime(2025, 7, 6, 6, 47, 43, 896125, tzinfo=datetime.timezone.utc), content='Tell me something about you?', type='TextMessage'), TextMessage(id='6a28915c-5dd3-4d70-af1a-deb38ae983a6', source='my_assistant', models_usage=RequestUsage(prompt_tokens=42, completion_tokens=63), metadata={}, created_at=datetime.datetime(2025, 7, 6, 6, 47, 46, 244285, tzinfo=datetime.timezone.utc), content='I am an AI language model trained by OpenAI, here to assist you with a wide variety of questions and tasks. I can provide information, answer queries, help you learn new things, and perform certain tasks to the best of my abilities. Is there anything specific you would like to know or do? TERMINATE', type='TextMessage')] stop_reason=None\n"
   ]
  }
 ],
 "metadata": {
  "kernelspec": {
   "display_name": "autogen-env",
   "language": "python",
   "name": "python3"
  },
  "language_info": {
   "codemirror_mode": {
    "name": "ipython",
    "version": 3
   },
   "file_extension": ".py",
   "mimetype": "text/x-python",
   "name": "python",
   "nbconvert_exporter": "python",
   "pygments_lexer": "ipython3",
   "version": "3.13.3"
  }
 },
 "nbformat": 4,
 "nbformat_minor": 2
}
